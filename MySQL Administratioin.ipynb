{
 "metadata": {
  "name": "",
  "signature": "sha256:9b793a42f59cdc99157456888f4aa4e000ca2b93a9ce9c9e8b72c587e4afe499"
 },
 "nbformat": 3,
 "nbformat_minor": 0,
 "worksheets": [
  {
   "cells": [
    {
     "cell_type": "markdown",
     "metadata": {},
     "source": [
      "##MySQL Create User\n",
      "\n"
     ]
    },
    {
     "cell_type": "raw",
     "metadata": {},
     "source": [
      "In MySQL, you can specify not only who can connect to a database server but also from where. Therefore an account in MySQL consists of username and host name where user connects from, that separated by @. For example, if the root user connects from the mysqltutorial.org host to the database server the account name would be root@mysqltutorial.org.\n",
      "\n",
      "This allows you to setup multiple accounts with the same name but connects from different hosts and have different privileges. In addition, you have control to setup account to connect from either specific or broad a set of hosts. The username and host are stored in the grant table named  user."
     ]
    },
    {
     "cell_type": "markdown",
     "metadata": {},
     "source": [
      "###Create new users using CREATE USER statement\n",
      "\n"
     ]
    },
    {
     "cell_type": "code",
     "collapsed": false,
     "input": [
      "CREATE USER dbadmin@localhost \n",
      "IDENTIFIED BY 'CrEate-User'"
     ],
     "language": "python",
     "metadata": {},
     "outputs": []
    },
    {
     "cell_type": "code",
     "collapsed": false,
     "input": [
      "CREATE USER mysqladmin@'%.mysqltutorial.org'\n",
      "IDENTIFIED by 'SecurePass704';"
     ],
     "language": "python",
     "metadata": {},
     "outputs": []
    },
    {
     "cell_type": "markdown",
     "metadata": {},
     "source": [
      "###Create new user by using INSERT statement\n",
      "\n"
     ]
    },
    {
     "cell_type": "code",
     "collapsed": false,
     "input": [
      "INSERT INTO user (host,user,password)\n",
      "VALUES('localhost','dbadmin',PASSWORD('CrEate-User'));"
     ],
     "language": "python",
     "metadata": {},
     "outputs": []
    },
    {
     "cell_type": "markdown",
     "metadata": {},
     "source": [
      "##How to Use MySQL GRANT to Grant Privileges to Account\n",
      "\n"
     ]
    },
    {
     "cell_type": "code",
     "collapsed": false,
     "input": [
      "CREATE USER 'super'@'localhost' IDENTIFIED BY 'SecurePass1';\n",
      " \n",
      "GRANT ALL ON *.* TO 'super'@'localhost' WITH GRANT OPTION;"
     ],
     "language": "python",
     "metadata": {},
     "outputs": []
    },
    {
     "cell_type": "code",
     "collapsed": false,
     "input": [
      "CREATE USER 'rfc'@'%' IDENTIFIED BY 'SecurePass3';\n",
      " \n",
      "GRANT SELECT, UPDATE, DELETE ON  classicmodels.* TO 'rfc'@'%';"
     ],
     "language": "python",
     "metadata": {},
     "outputs": []
    },
    {
     "cell_type": "code",
     "collapsed": false,
     "input": [
      "CREATE USER 'super2'@'%' IDENTIFIED BY 'SecurePass2';\n",
      " \n",
      "GRANT ALL classicmodels.* TO 'super2'@'%' WITH GRANT OPTION;"
     ],
     "language": "python",
     "metadata": {},
     "outputs": []
    },
    {
     "cell_type": "markdown",
     "metadata": {},
     "source": [
      "##Revoking Privileges from Users Using MySQL REVOKE\n",
      "\n"
     ]
    },
    {
     "cell_type": "raw",
     "metadata": {},
     "source": [
      "Before revoking privileges of a user, it is good practice to check if the user has the privileges by using the SHOW GRANTS statement as follows:"
     ]
    },
    {
     "cell_type": "code",
     "collapsed": false,
     "input": [
      "SHOW GRANTS FOR user;"
     ],
     "language": "python",
     "metadata": {},
     "outputs": []
    },
    {
     "cell_type": "markdown",
     "metadata": {},
     "source": [
      "###MySQL REVOKE examples\n",
      "\n"
     ]
    },
    {
     "cell_type": "code",
     "collapsed": false,
     "input": [
      "GRANT SELECT, UPDATE, DELETE ON  classicmodels.* TO 'rfc'@'localhost';"
     ],
     "language": "python",
     "metadata": {},
     "outputs": []
    },
    {
     "cell_type": "code",
     "collapsed": false,
     "input": [
      "REVOKE UPDATE, DELETE ON classicmodels.*  FROM 'rfc'@'localhost';"
     ],
     "language": "python",
     "metadata": {},
     "outputs": []
    },
    {
     "cell_type": "code",
     "collapsed": false,
     "input": [
      "SHOW GRANTS FOR 'rfc'@'localhost';"
     ],
     "language": "python",
     "metadata": {},
     "outputs": []
    },
    {
     "cell_type": "markdown",
     "metadata": {},
     "source": [
      "##How to Backup Databases Using mysqldump Tool\n",
      "\n"
     ]
    },
    {
     "cell_type": "raw",
     "metadata": {},
     "source": [
      "MySQL provides a very useful tool for backup or dump MySQL databases locally on server very fast. The backup file is stored in the file system in the server so you just need to download it when needed. The tool to backup MySQL databases is mysqldump. It is located in the root/bin folder of MySQL installation folder. The mysqldump is a program provided by MySQL that can be used to dump databases for backup or transfer database to another database server. The dump file contains a set of SQL statements to create and populate tables. In addition, the mysqldump can be used to generate CSV, delimited or XML files."
     ]
    },
    {
     "cell_type": "markdown",
     "metadata": {},
     "source": [
      "###How to Backup a MySQL Database\n",
      "\n"
     ]
    },
    {
     "cell_type": "code",
     "collapsed": false,
     "input": [
      "mysqldump -u [username] \u2013p[password] [database_name] > [dump_file.sql]"
     ],
     "language": "python",
     "metadata": {},
     "outputs": []
    },
    {
     "cell_type": "markdown",
     "metadata": {},
     "source": [
      "###How to Backup MySQL Database Structure Only\n",
      "\n"
     ]
    },
    {
     "cell_type": "code",
     "collapsed": false,
     "input": [
      "mysqldump -u [username] \u2013p[password] \u2013no-data [database_name] > [dump_file.sql]"
     ],
     "language": "python",
     "metadata": {},
     "outputs": []
    },
    {
     "cell_type": "markdown",
     "metadata": {},
     "source": [
      "###How to Backup MySQL Database Data Only\n",
      "\n"
     ]
    },
    {
     "cell_type": "code",
     "collapsed": false,
     "input": [
      "mysqldump -u [username] \u2013p[password] \u2013no-create-info [database_name] > [dump_file.sql]"
     ],
     "language": "python",
     "metadata": {},
     "outputs": []
    },
    {
     "cell_type": "markdown",
     "metadata": {},
     "source": [
      "###How to Backup Multiple MySQL Databases into a Single File\n",
      "\n"
     ]
    },
    {
     "cell_type": "code",
     "collapsed": false,
     "input": [
      "mysqldump -u [username] \u2013p[password]  [dbname1,dbname2,\u2026] > [dump_file.sql]\n",
      " \n",
      "mysqldump -u [username] \u2013p[password] \u2013all-database > [dump_file.sql]"
     ],
     "language": "python",
     "metadata": {},
     "outputs": []
    },
    {
     "cell_type": "markdown",
     "metadata": {},
     "source": [
      "##Maintaining MySQL Database Tables\n",
      "\n"
     ]
    },
    {
     "cell_type": "markdown",
     "metadata": {},
     "source": [
      "###Analyze table statement\n",
      "\n"
     ]
    },
    {
     "cell_type": "raw",
     "metadata": {},
     "source": [
      "The key distributions can be sometimes inaccurate e.g., after you have done a lot of data changes in the table including insert, delete or update. If the key distribution is not accurate, the query optimizer may pick a bad query execution plan that may cause a severe performance issue.\n",
      "To solve this problem, you can run the ANALYZE TABLE statement for the table "
     ]
    },
    {
     "cell_type": "code",
     "collapsed": false,
     "input": [
      "ANALYZE TABLE payments"
     ],
     "language": "python",
     "metadata": {},
     "outputs": []
    },
    {
     "cell_type": "markdown",
     "metadata": {},
     "source": [
      "###Optimize table statement\n",
      "\n"
     ]
    },
    {
     "cell_type": "raw",
     "metadata": {},
     "source": [
      "While working with the database, you do a lot of changes such as insert, update and delete data in the table that may cause the physical storage of the table fragmented. As a result, the performance of database server is degraded.\n",
      "\n",
      "MySQL provides you with a statement that allows you to optimize the table to avoid this defragmenting problem. The following illustrates how to optimize a table:"
     ]
    },
    {
     "cell_type": "code",
     "collapsed": false,
     "input": [
      "OPTIMIZE TABLE table_name"
     ],
     "language": "python",
     "metadata": {},
     "outputs": []
    },
    {
     "cell_type": "markdown",
     "metadata": {},
     "source": [
      "###Check table statement\n",
      "\n"
     ]
    },
    {
     "cell_type": "raw",
     "metadata": {},
     "source": [
      "Something wrong can happen to the database server e.g., the server was shutdown unexpectedly, error while writing data to the hard disk, etc. These situations could make the database operate incorrectly and in the worst case it can be crashed.\n",
      "\n",
      "MySQL allows you to check the integrity of database tables by using the CHECK TABLE statement. The following illustrates the syntax of the CHECK TABLE statement:"
     ]
    },
    {
     "cell_type": "code",
     "collapsed": false,
     "input": [
      "CHECK TABLE table_name"
     ],
     "language": "python",
     "metadata": {},
     "outputs": []
    },
    {
     "cell_type": "markdown",
     "metadata": {},
     "source": [
      "###Repair table statement\n",
      "\n"
     ]
    },
    {
     "cell_type": "markdown",
     "metadata": {},
     "source": [
      "REPAIR TABLE table_name"
     ]
    },
    {
     "cell_type": "markdown",
     "metadata": {},
     "source": [
      "##Getting Started with MySQL Access Control System\n",
      "\n"
     ]
    },
    {
     "cell_type": "markdown",
     "metadata": {},
     "source": [
      "MySQL implements a sophisticated access control and privilege system that allows you to create comprehensive access rules for handling client operations and effectively preventing unauthorized clients from accessing the database system.\n",
      "\n",
      "The MySQL access control has two stages when a client connects to the server:\n",
      "\n",
      "* Connection verification: a client, which connects to the MySQL database server, needs to have a valid username and password. In addition, the host from which the client connects has to match with the host in the MySQL grant table.\n",
      "* Request verification: once a connection is established successfully, for each statement issued by the client, MySQL checks whether the client has sufficient privileges to execute that particular statement. MySQL has ability to check a privilege at database, table, and field level."
     ]
    },
    {
     "cell_type": "code",
     "collapsed": false,
     "input": [],
     "language": "python",
     "metadata": {},
     "outputs": []
    }
   ],
   "metadata": {}
  }
 ]
}