{
 "metadata": {
  "name": "",
  "signature": "sha256:55ecad7d357b0e188ee587f3a2cc153e5d17c0ceddb96853e22b67e131cc1d2e"
 },
 "nbformat": 3,
 "nbformat_minor": 0,
 "worksheets": [
  {
   "cells": [
    {
     "cell_type": "markdown",
     "metadata": {},
     "source": [
      "##Introduction to Database View\n",
      "\n"
     ]
    },
    {
     "cell_type": "raw",
     "metadata": {},
     "source": [
      "A database view is a virtual table or logical table which is defined as a SQL SELECT query with joins."
     ]
    },
    {
     "cell_type": "markdown",
     "metadata": {},
     "source": [
      "###Advantages of database view\n",
      "\n",
      "The following are advantages of using database views.\n",
      "\n",
      "* A database view allows you to simplify complex queries: a database view is defined by an SQL statement that associates with many underlying tables. You can use database view to hide the complexity of underlying tables to the end-users and external applications. Through a database view, you only have to use simple SQL statements instead of complex ones with many joins.\n",
      "* A database view helps limit data access to specific users. You may not want a subset of sensitive data can be queryable by all users. You can use database views to expose only non-sensitive data to a specific group of users.\n",
      "* A database view provides extra security layer. Security is a vital part of any relational database management system. Database views provides extra security for a database management system. A database view allows you to create only read-only view to expose read-only data to specific users. Users can only retrieve data in read-only view but cannot update it.\n",
      "* A database view enables computed columns. A database table should not have calculated columns however a database view should. Suppose in the orderDetails table you have quantityOrder (the number of ordered products) and priceEach (price per product item) columns. However the orderDetails table does not have computed column to store total sales for each line item of the order. If it has, the database schema would not be a good design. In this case, you can create a computed column named total, which is a product of quantityOrder and priceEach to store the computed result. When you query data from the database view, the data of the computed column is calculated on fly.\n",
      "* Database view enables backward compatibility. Suppose you have a central database, which many applications are using it. One day you decided to redesign the database to adapt with the new business requirements. You remove some tables and create several new tables, and you don\u2019t want the changes affect other applications. In this scenario, you can create database views with the same schema as the legacy tables that you\u2019ve removed.\n",
      "\n",
      "###Disadvantages of database view\n",
      "\n",
      "* Performance: querying data from a database view can be slow especially if the view is created based on other views.\n",
      "* Tables dependency: you create view based on underlying tables of the a database. Whenever you change the structure of those tables that view associates with, you have to change the view as well."
     ]
    },
    {
     "cell_type": "markdown",
     "metadata": {},
     "source": [
      "##Creating Views in MySQL\n",
      "\n"
     ]
    },
    {
     "cell_type": "code",
     "collapsed": false,
     "input": [
      "CREATE VIEW SalePerOrder\n",
      "   AS \n",
      "  SELECT orderNumber,\n",
      "  SUM  (quantityOrdered * priceEach) total\n",
      "  FROM orderDetails\n",
      "  GROUP by orderNumber\n",
      "  ORDER BY total DESC"
     ],
     "language": "python",
     "metadata": {},
     "outputs": []
    },
    {
     "cell_type": "code",
     "collapsed": false,
     "input": [
      "SELECT total \n",
      "FROM salePerOrder\n",
      "WHERE orderNumber = 10102"
     ],
     "language": "python",
     "metadata": {},
     "outputs": []
    },
    {
     "cell_type": "code",
     "collapsed": false,
     "input": [
      "CREATE VIEW customerOrders AS\n",
      " SELECT  D.orderNumber,\n",
      "         customerName,\n",
      "         SUM(quantityOrdered * priceEach) total\n",
      " FROM orderDetails D\n",
      " INNER JOIN orders O ON O.orderNumber = D.orderNumber\n",
      " INNER JOIN customers C ON O.customerNumber =  C.customerNumber  \n",
      " GROUP BY D.orderNumber \n",
      " ORDER BY total DESC"
     ],
     "language": "python",
     "metadata": {},
     "outputs": []
    },
    {
     "cell_type": "code",
     "collapsed": false,
     "input": [
      "CREATE VIEW vwProducts  AS \n",
      " SELECT productCode,\n",
      "        productName,\n",
      "        buyPrice \n",
      " FROM products\n",
      " WHERE buyPrice > (\n",
      "      SELECT AVG  (buyPrice)\n",
      "      FROM  products\n",
      " )\n",
      " ORDER BY buyPrice DESC"
     ],
     "language": "python",
     "metadata": {},
     "outputs": []
    },
    {
     "cell_type": "markdown",
     "metadata": {},
     "source": [
      "##Creating Updateable Views\n",
      "\n"
     ]
    },
    {
     "cell_type": "code",
     "collapsed": false,
     "input": [
      "CREATE VIEW officeInfo\n",
      " AS \n",
      "   SELECT officeCode, phone, city\n",
      "   FROM offices"
     ],
     "language": "python",
     "metadata": {},
     "outputs": []
    },
    {
     "cell_type": "code",
     "collapsed": false,
     "input": [
      "UPDATE officeInfo\n",
      "SET phone = '+33 14 723 5555'\n",
      "WHERE officeCode = 4"
     ],
     "language": "python",
     "metadata": {},
     "outputs": []
    },
    {
     "cell_type": "code",
     "collapsed": false,
     "input": [
      "SELECT * FROM officeInfo\n",
      "WHERE officeCode = 4"
     ],
     "language": "python",
     "metadata": {},
     "outputs": []
    },
    {
     "cell_type": "markdown",
     "metadata": {},
     "source": [
      "##Managing Views in MySQL\n",
      "\n"
     ]
    },
    {
     "cell_type": "code",
     "collapsed": false,
     "input": [
      "CREATE VIEW organization\n",
      "   AS \n",
      "    SELECT CONCAT (E.lastname,E.firstname) AS Employee,\n",
      "           CONCAT  (M.lastname,M.firstname) AS Manager\n",
      "    FROM employees AS E\n",
      "    INNER JOIN employees AS M \n",
      "        ON M.employeeNumber = E.ReportsTo\n",
      "    ORDER BY Manager"
     ],
     "language": "python",
     "metadata": {},
     "outputs": []
    },
    {
     "cell_type": "raw",
     "metadata": {},
     "source": [
      "To display the view\u2019s definition, you use the SHOW CREATE VIEW statement as follows:"
     ]
    },
    {
     "cell_type": "code",
     "collapsed": false,
     "input": [
      "SHOW CREATE VIEW organization"
     ],
     "language": "python",
     "metadata": {},
     "outputs": []
    },
    {
     "cell_type": "markdown",
     "metadata": {},
     "source": [
      "###Modifying views"
     ]
    },
    {
     "cell_type": "code",
     "collapsed": false,
     "input": [
      "ALTER VIEW organization\n",
      "  AS \n",
      "  SELECT CONCAT(E.lastname,E.firstname) AS Employee,\n",
      "         E.email AS  employeeEmail,\n",
      "         CONCAT(M.lastname,M.firstname) AS Manager\n",
      "  FROM employees AS E\n",
      "  INNER JOIN employees AS M\n",
      "    ON M.employeeNumber = E.ReportsTo\n",
      "  ORDER BY Manager"
     ],
     "language": "python",
     "metadata": {},
     "outputs": []
    },
    {
     "cell_type": "markdown",
     "metadata": {},
     "source": [
      "###MySQL drop views\n",
      "\n"
     ]
    },
    {
     "cell_type": "code",
     "collapsed": false,
     "input": [
      "DROP VIEW IF EXISTS organization"
     ],
     "language": "python",
     "metadata": {},
     "outputs": []
    },
    {
     "cell_type": "code",
     "collapsed": false,
     "input": [],
     "language": "python",
     "metadata": {},
     "outputs": []
    }
   ],
   "metadata": {}
  }
 ]
}