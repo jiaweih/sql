{
 "metadata": {
  "name": "",
  "signature": "sha256:e4e315267f4c99fca285af4123a6c671a1a3a325fe668d5c1e3c6b6707a287f3"
 },
 "nbformat": 3,
 "nbformat_minor": 0,
 "worksheets": [
  {
   "cells": [
    {
     "cell_type": "markdown",
     "metadata": {},
     "source": [
      "##Import MySQLdb module"
     ]
    },
    {
     "cell_type": "code",
     "collapsed": false,
     "input": [
      "import MySQLdb"
     ],
     "language": "python",
     "metadata": {},
     "outputs": [],
     "prompt_number": 1
    },
    {
     "cell_type": "markdown",
     "metadata": {},
     "source": [
      "##Connect to MySQL server"
     ]
    },
    {
     "cell_type": "code",
     "collapsed": false,
     "input": [
      "con = MySQLdb.connect(user=\"root\",passwd=\"888888\",db=\"Events\")"
     ],
     "language": "python",
     "metadata": {},
     "outputs": [],
     "prompt_number": 2
    },
    {
     "cell_type": "markdown",
     "metadata": {},
     "source": [
      "##Store data in a dataframe"
     ]
    },
    {
     "cell_type": "code",
     "collapsed": false,
     "input": [
      "import pandas as pd"
     ],
     "language": "python",
     "metadata": {},
     "outputs": [],
     "prompt_number": 3
    },
    {
     "cell_type": "code",
     "collapsed": false,
     "input": [
      "df = pd.read_sql(\"SELECT * from Events LIMIT 10000000\", con)\n",
      "df.head()"
     ],
     "language": "python",
     "metadata": {},
     "outputs": [
      {
       "html": [
        "<div style=\"max-height:1000px;max-width:1500px;overflow:auto;\">\n",
        "<table border=\"1\" class=\"dataframe\">\n",
        "  <thead>\n",
        "    <tr style=\"text-align: right;\">\n",
        "      <th></th>\n",
        "      <th>Day</th>\n",
        "      <th>Actor1Code</th>\n",
        "      <th>Actor2Code</th>\n",
        "      <th>EventCode</th>\n",
        "      <th>QuadCategory</th>\n",
        "      <th>GoldsteinScale</th>\n",
        "      <th>Actor1Geo_Lat</th>\n",
        "      <th>Actor1Geo_Long</th>\n",
        "      <th>Actor2Geo_Lat</th>\n",
        "      <th>Actor2Geo_Long</th>\n",
        "      <th>ActionGeo_Lat</th>\n",
        "      <th>ActionGeo_Long</th>\n",
        "    </tr>\n",
        "  </thead>\n",
        "  <tbody>\n",
        "    <tr>\n",
        "      <th>0</th>\n",
        "      <td> 19790101</td>\n",
        "      <td> AFR</td>\n",
        "      <td>       FRA</td>\n",
        "      <td> 050</td>\n",
        "      <td> 2</td>\n",
        "      <td> 3.5</td>\n",
        "      <td>  0</td>\n",
        "      <td>  0</td>\n",
        "      <td>  0</td>\n",
        "      <td>  0</td>\n",
        "      <td>  0</td>\n",
        "      <td>  0</td>\n",
        "    </tr>\n",
        "    <tr>\n",
        "      <th>1</th>\n",
        "      <td> 19790101</td>\n",
        "      <td> AFR</td>\n",
        "      <td>    FRAGOV</td>\n",
        "      <td> 043</td>\n",
        "      <td> 2</td>\n",
        "      <td> 2.8</td>\n",
        "      <td>  0</td>\n",
        "      <td>  0</td>\n",
        "      <td>  0</td>\n",
        "      <td>  0</td>\n",
        "      <td>  0</td>\n",
        "      <td>  0</td>\n",
        "    </tr>\n",
        "    <tr>\n",
        "      <th>2</th>\n",
        "      <td> 19790101</td>\n",
        "      <td> AFR</td>\n",
        "      <td>       ZMB</td>\n",
        "      <td> 100</td>\n",
        "      <td> 3</td>\n",
        "      <td>-5.0</td>\n",
        "      <td>  0</td>\n",
        "      <td>  0</td>\n",
        "      <td>  0</td>\n",
        "      <td>  0</td>\n",
        "      <td>  0</td>\n",
        "      <td>  0</td>\n",
        "    </tr>\n",
        "    <tr>\n",
        "      <th>3</th>\n",
        "      <td> 19790101</td>\n",
        "      <td> ARG</td>\n",
        "      <td> ARGGOVMIL</td>\n",
        "      <td> 172</td>\n",
        "      <td> 4</td>\n",
        "      <td>-5.0</td>\n",
        "      <td>-34</td>\n",
        "      <td>-64</td>\n",
        "      <td>-34</td>\n",
        "      <td>-64</td>\n",
        "      <td>-34</td>\n",
        "      <td>-64</td>\n",
        "    </tr>\n",
        "    <tr>\n",
        "      <th>4</th>\n",
        "      <td> 19790101</td>\n",
        "      <td> ARG</td>\n",
        "      <td>       CHL</td>\n",
        "      <td> 172</td>\n",
        "      <td> 4</td>\n",
        "      <td>-5.0</td>\n",
        "      <td>-34</td>\n",
        "      <td>-64</td>\n",
        "      <td>-34</td>\n",
        "      <td>-64</td>\n",
        "      <td>-34</td>\n",
        "      <td>-64</td>\n",
        "    </tr>\n",
        "  </tbody>\n",
        "</table>\n",
        "</div>"
       ],
       "metadata": {},
       "output_type": "pyout",
       "prompt_number": 4,
       "text": [
        "        Day Actor1Code Actor2Code EventCode  QuadCategory  GoldsteinScale  \\\n",
        "0  19790101        AFR        FRA       050             2             3.5   \n",
        "1  19790101        AFR     FRAGOV       043             2             2.8   \n",
        "2  19790101        AFR        ZMB       100             3            -5.0   \n",
        "3  19790101        ARG  ARGGOVMIL       172             4            -5.0   \n",
        "4  19790101        ARG        CHL       172             4            -5.0   \n",
        "\n",
        "   Actor1Geo_Lat  Actor1Geo_Long  Actor2Geo_Lat  Actor2Geo_Long  \\\n",
        "0              0               0              0               0   \n",
        "1              0               0              0               0   \n",
        "2              0               0              0               0   \n",
        "3            -34             -64            -34             -64   \n",
        "4            -34             -64            -34             -64   \n",
        "\n",
        "   ActionGeo_Lat  ActionGeo_Long  \n",
        "0              0               0  \n",
        "1              0               0  \n",
        "2              0               0  \n",
        "3            -34             -64  \n",
        "4            -34             -64  "
       ]
      }
     ],
     "prompt_number": 4
    },
    {
     "cell_type": "code",
     "collapsed": false,
     "input": [
      "df['Year'] = df.Day.map(lambda x: int(x[:4]))\n",
      "df['Month'] = df.Day.map(lambda x: int(x[4:6]))\n",
      "df['Date'] = df.Day.map(lambda x: int(x[6:]))\n",
      "df = df.drop('Day', axis=1)\n",
      "\n",
      "df.ix[:10,['Year', 'Month', 'Date', 'Actor1Code', 'Actor2Code', 'QuadCategory']]"
     ],
     "language": "python",
     "metadata": {},
     "outputs": [
      {
       "html": [
        "<div style=\"max-height:1000px;max-width:1500px;overflow:auto;\">\n",
        "<table border=\"1\" class=\"dataframe\">\n",
        "  <thead>\n",
        "    <tr style=\"text-align: right;\">\n",
        "      <th></th>\n",
        "      <th>Year</th>\n",
        "      <th>Month</th>\n",
        "      <th>Date</th>\n",
        "      <th>Actor1Code</th>\n",
        "      <th>Actor2Code</th>\n",
        "      <th>QuadCategory</th>\n",
        "    </tr>\n",
        "  </thead>\n",
        "  <tbody>\n",
        "    <tr>\n",
        "      <th>0 </th>\n",
        "      <td> 1979</td>\n",
        "      <td> 1</td>\n",
        "      <td> 1</td>\n",
        "      <td> AFR</td>\n",
        "      <td>       FRA</td>\n",
        "      <td> 2</td>\n",
        "    </tr>\n",
        "    <tr>\n",
        "      <th>1 </th>\n",
        "      <td> 1979</td>\n",
        "      <td> 1</td>\n",
        "      <td> 1</td>\n",
        "      <td> AFR</td>\n",
        "      <td>    FRAGOV</td>\n",
        "      <td> 2</td>\n",
        "    </tr>\n",
        "    <tr>\n",
        "      <th>2 </th>\n",
        "      <td> 1979</td>\n",
        "      <td> 1</td>\n",
        "      <td> 1</td>\n",
        "      <td> AFR</td>\n",
        "      <td>       ZMB</td>\n",
        "      <td> 3</td>\n",
        "    </tr>\n",
        "    <tr>\n",
        "      <th>3 </th>\n",
        "      <td> 1979</td>\n",
        "      <td> 1</td>\n",
        "      <td> 1</td>\n",
        "      <td> ARG</td>\n",
        "      <td> ARGGOVMIL</td>\n",
        "      <td> 4</td>\n",
        "    </tr>\n",
        "    <tr>\n",
        "      <th>4 </th>\n",
        "      <td> 1979</td>\n",
        "      <td> 1</td>\n",
        "      <td> 1</td>\n",
        "      <td> ARG</td>\n",
        "      <td>       CHL</td>\n",
        "      <td> 4</td>\n",
        "    </tr>\n",
        "    <tr>\n",
        "      <th>5 </th>\n",
        "      <td> 1979</td>\n",
        "      <td> 1</td>\n",
        "      <td> 1</td>\n",
        "      <td> ARG</td>\n",
        "      <td>    VATGOV</td>\n",
        "      <td> 1</td>\n",
        "    </tr>\n",
        "    <tr>\n",
        "      <th>6 </th>\n",
        "      <td> 1979</td>\n",
        "      <td> 1</td>\n",
        "      <td> 1</td>\n",
        "      <td> ATH</td>\n",
        "      <td>    MOSGOV</td>\n",
        "      <td> 3</td>\n",
        "    </tr>\n",
        "    <tr>\n",
        "      <th>7 </th>\n",
        "      <td> 1979</td>\n",
        "      <td> 1</td>\n",
        "      <td> 1</td>\n",
        "      <td> ATH</td>\n",
        "      <td>       RUS</td>\n",
        "      <td> 3</td>\n",
        "    </tr>\n",
        "    <tr>\n",
        "      <th>8 </th>\n",
        "      <td> 1979</td>\n",
        "      <td> 1</td>\n",
        "      <td> 1</td>\n",
        "      <td> BUS</td>\n",
        "      <td>    CHNGOV</td>\n",
        "      <td> 3</td>\n",
        "    </tr>\n",
        "    <tr>\n",
        "      <th>9 </th>\n",
        "      <td> 1979</td>\n",
        "      <td> 1</td>\n",
        "      <td> 1</td>\n",
        "      <td> BUS</td>\n",
        "      <td>       USA</td>\n",
        "      <td> 2</td>\n",
        "    </tr>\n",
        "    <tr>\n",
        "      <th>10</th>\n",
        "      <td> 1979</td>\n",
        "      <td> 1</td>\n",
        "      <td> 1</td>\n",
        "      <td> CAF</td>\n",
        "      <td>       COD</td>\n",
        "      <td> 2</td>\n",
        "    </tr>\n",
        "  </tbody>\n",
        "</table>\n",
        "</div>"
       ],
       "metadata": {},
       "output_type": "pyout",
       "prompt_number": 5,
       "text": [
        "    Year  Month  Date Actor1Code Actor2Code  QuadCategory\n",
        "0   1979      1     1        AFR        FRA             2\n",
        "1   1979      1     1        AFR     FRAGOV             2\n",
        "2   1979      1     1        AFR        ZMB             3\n",
        "3   1979      1     1        ARG  ARGGOVMIL             4\n",
        "4   1979      1     1        ARG        CHL             4\n",
        "5   1979      1     1        ARG     VATGOV             1\n",
        "6   1979      1     1        ATH     MOSGOV             3\n",
        "7   1979      1     1        ATH        RUS             3\n",
        "8   1979      1     1        BUS     CHNGOV             3\n",
        "9   1979      1     1        BUS        USA             2\n",
        "10  1979      1     1        CAF        COD             2"
       ]
      }
     ],
     "prompt_number": 5
    },
    {
     "cell_type": "markdown",
     "metadata": {},
     "source": [
      "##Create a pivot table to aggregate the number of events in a month"
     ]
    },
    {
     "cell_type": "code",
     "collapsed": false,
     "input": [
      "pivot = pd.pivot_table(df, values='Date', index=['Year', 'Month'], columns='QuadCategory',\n",
      "                       aggfunc=len)\n",
      "\n",
      "pivot = pivot.fillna(0)\n",
      "pivot = pivot.reset_index()\n",
      "pivot.head(10)"
     ],
     "language": "python",
     "metadata": {},
     "outputs": [
      {
       "html": [
        "<div style=\"max-height:1000px;max-width:1500px;overflow:auto;\">\n",
        "<table border=\"1\" class=\"dataframe\">\n",
        "  <thead>\n",
        "    <tr style=\"text-align: right;\">\n",
        "      <th>QuadCategory</th>\n",
        "      <th>Year</th>\n",
        "      <th>Month</th>\n",
        "      <th>1</th>\n",
        "      <th>2</th>\n",
        "      <th>3</th>\n",
        "      <th>4</th>\n",
        "    </tr>\n",
        "  </thead>\n",
        "  <tbody>\n",
        "    <tr>\n",
        "      <th>0</th>\n",
        "      <td> 1979</td>\n",
        "      <td>  1</td>\n",
        "      <td> 1167</td>\n",
        "      <td> 10626</td>\n",
        "      <td> 1769</td>\n",
        "      <td> 1672</td>\n",
        "    </tr>\n",
        "    <tr>\n",
        "      <th>1</th>\n",
        "      <td> 1979</td>\n",
        "      <td>  2</td>\n",
        "      <td> 1160</td>\n",
        "      <td> 10505</td>\n",
        "      <td> 1759</td>\n",
        "      <td> 2064</td>\n",
        "    </tr>\n",
        "    <tr>\n",
        "      <th>2</th>\n",
        "      <td> 1979</td>\n",
        "      <td>  3</td>\n",
        "      <td> 1298</td>\n",
        "      <td> 11561</td>\n",
        "      <td> 1795</td>\n",
        "      <td> 1825</td>\n",
        "    </tr>\n",
        "    <tr>\n",
        "      <th>3</th>\n",
        "      <td> 1979</td>\n",
        "      <td>  4</td>\n",
        "      <td> 1264</td>\n",
        "      <td> 10989</td>\n",
        "      <td> 1694</td>\n",
        "      <td> 2434</td>\n",
        "    </tr>\n",
        "    <tr>\n",
        "      <th>4</th>\n",
        "      <td> 1979</td>\n",
        "      <td>  5</td>\n",
        "      <td> 1373</td>\n",
        "      <td> 12774</td>\n",
        "      <td> 1849</td>\n",
        "      <td> 2328</td>\n",
        "    </tr>\n",
        "    <tr>\n",
        "      <th>5</th>\n",
        "      <td> 1979</td>\n",
        "      <td>  6</td>\n",
        "      <td> 1371</td>\n",
        "      <td> 13053</td>\n",
        "      <td> 2011</td>\n",
        "      <td> 2357</td>\n",
        "    </tr>\n",
        "    <tr>\n",
        "      <th>6</th>\n",
        "      <td> 1979</td>\n",
        "      <td>  7</td>\n",
        "      <td> 1444</td>\n",
        "      <td> 12124</td>\n",
        "      <td> 1808</td>\n",
        "      <td> 1951</td>\n",
        "    </tr>\n",
        "    <tr>\n",
        "      <th>7</th>\n",
        "      <td> 1979</td>\n",
        "      <td>  8</td>\n",
        "      <td> 1259</td>\n",
        "      <td> 11163</td>\n",
        "      <td> 1750</td>\n",
        "      <td> 1914</td>\n",
        "    </tr>\n",
        "    <tr>\n",
        "      <th>8</th>\n",
        "      <td> 1979</td>\n",
        "      <td>  9</td>\n",
        "      <td> 1245</td>\n",
        "      <td> 12872</td>\n",
        "      <td> 1553</td>\n",
        "      <td> 1833</td>\n",
        "    </tr>\n",
        "    <tr>\n",
        "      <th>9</th>\n",
        "      <td> 1979</td>\n",
        "      <td> 10</td>\n",
        "      <td> 1353</td>\n",
        "      <td> 12980</td>\n",
        "      <td> 1747</td>\n",
        "      <td> 2046</td>\n",
        "    </tr>\n",
        "  </tbody>\n",
        "</table>\n",
        "</div>"
       ],
       "metadata": {},
       "output_type": "pyout",
       "prompt_number": 7,
       "text": [
        "QuadCategory  Year  Month     1      2     3     4\n",
        "0             1979      1  1167  10626  1769  1672\n",
        "1             1979      2  1160  10505  1759  2064\n",
        "2             1979      3  1298  11561  1795  1825\n",
        "3             1979      4  1264  10989  1694  2434\n",
        "4             1979      5  1373  12774  1849  2328\n",
        "5             1979      6  1371  13053  2011  2357\n",
        "6             1979      7  1444  12124  1808  1951\n",
        "7             1979      8  1259  11163  1750  1914\n",
        "8             1979      9  1245  12872  1553  1833\n",
        "9             1979     10  1353  12980  1747  2046"
       ]
      }
     ],
     "prompt_number": 7
    },
    {
     "cell_type": "code",
     "collapsed": false,
     "input": [
      "from datetime import date\n",
      "get_date = lambda x: date(year=int(x['Year']), month=int(x['Month']), day=1)\n",
      "\n",
      "pivot['date'] = pivot.apply(get_date, axis=1) \n",
      "pivot = pivot.set_index('date') \n",
      "\n",
      "pivot = pivot[[1, 2, 3, 4]]\n",
      "pivot = pivot.rename(columns={1: 'Material Cooperation',\n",
      "                              2: 'Verbal Cooperation',\n",
      "                              3: 'Verbal Conflict',\n",
      "                              4: 'Material Conflict'})"
     ],
     "language": "python",
     "metadata": {},
     "outputs": [],
     "prompt_number": 8
    },
    {
     "cell_type": "markdown",
     "metadata": {},
     "source": [
      "##Make a plot "
     ]
    },
    {
     "cell_type": "code",
     "collapsed": false,
     "input": [
      "%matplotlib inline\n",
      "pivot.plot(figsize=(10,8))"
     ],
     "language": "python",
     "metadata": {},
     "outputs": [
      {
       "metadata": {},
       "output_type": "pyout",
       "prompt_number": 9,
       "text": [
        "<matplotlib.axes.AxesSubplot at 0x258528dd0>"
       ]
      },
      {
       "metadata": {},
       "output_type": "display_data",
       "png": "[encoded data removed]",
       "text": [
        "<matplotlib.figure.Figure at 0x258528810>"
       ]
      }
     ],
     "prompt_number": 9
    },
    {
     "cell_type": "markdown",
     "metadata": {},
     "source": [
      "##Import CSV file into database"
     ]
    },
    {
     "cell_type": "code",
     "collapsed": false,
     "input": [
      "import MySQLdb\n",
      "con = MySQLdb.connect(user=\"root\",passwd=\"888888\",db=\"test\")"
     ],
     "language": "python",
     "metadata": {},
     "outputs": [],
     "prompt_number": 10
    },
    {
     "cell_type": "code",
     "collapsed": false,
     "input": [
      "cur = con.cursor()\n",
      "cur.execute(\"DROP TABLE IF EXISTS codes\")\n",
      "cur.execute(\"CREATE TABLE codes( \\\n",
      "             states VARCHAR(25) NOT NULL, \\\n",
      "             abbre VARCHAR(5) NOT NULL, \\\n",
      "             code INT NOT NULL, \\\n",
      "             PRIMARY KEY (states)) \\\n",
      "           \")\n",
      "cur.execute(\"LOAD DATA INFILE 'codes.csv'\\\n",
      "           INTO TABLE codes \\\n",
      "           FIELDS TERMINATED BY ',' \\\n",
      "           LINES TERMINATED BY '\\\\n'  \\\n",
      "           IGNORE 1 ROWS \\\n",
      "           \")"
     ],
     "language": "python",
     "metadata": {},
     "outputs": [
      {
       "metadata": {},
       "output_type": "pyout",
       "prompt_number": 11,
       "text": [
        "51L"
       ]
      }
     ],
     "prompt_number": 11
    },
    {
     "cell_type": "markdown",
     "metadata": {},
     "source": [
      "###Display data in the new table "
     ]
    },
    {
     "cell_type": "code",
     "collapsed": false,
     "input": [
      "cur.execute(\"SELECT * from codes LIMIT 5\")\n",
      "rows = cur.fetchall()\n",
      "for row in rows:\n",
      "    print row"
     ],
     "language": "python",
     "metadata": {},
     "outputs": [
      {
       "output_type": "stream",
       "stream": "stdout",
       "text": [
        "('Alabama', 'AL', 1L)\n",
        "('Alaska', 'AK', 2L)\n",
        "('Arizona', 'AZ', 4L)\n",
        "('Arkansas', 'AR', 5L)\n",
        "('California', 'CA', 6L)\n"
       ]
      }
     ],
     "prompt_number": 12
    },
    {
     "cell_type": "markdown",
     "metadata": {},
     "source": [
      "##Export table to CSV"
     ]
    },
    {
     "cell_type": "code",
     "collapsed": false,
     "input": [
      "cur.execute(\"SELECT * from codes LIMIT 10 \\\n",
      "           INTO OUTFILE 'codes_10.csv' \\\n",
      "           FIELDS TERMINATED BY ',' \\\n",
      "           LINES TERMINATED BY '\\\\n' \\\n",
      "          \")"
     ],
     "language": "python",
     "metadata": {},
     "outputs": [
      {
       "metadata": {},
       "output_type": "pyout",
       "prompt_number": 14,
       "text": [
        "10L"
       ]
      }
     ],
     "prompt_number": 14
    },
    {
     "cell_type": "markdown",
     "metadata": {},
     "source": [
      "##Display data in the new CSV file"
     ]
    },
    {
     "cell_type": "code",
     "collapsed": false,
     "input": [
      "%cat /usr/local/mysql/data/test/codes_10.csv"
     ],
     "language": "python",
     "metadata": {},
     "outputs": [
      {
       "output_type": "stream",
       "stream": "stdout",
       "text": [
        "Alabama,AL,1\r\n",
        "Alaska,AK,2\r\n",
        "Arizona,AZ,4\r\n",
        "Arkansas,AR,5\r\n",
        "California,CA,6\r\n",
        "Colorado,CO,8\r\n",
        "Connecticut,CT,9\r\n",
        "Delaware,DE,10\r\n",
        "District of Columbia,DC,11\r\n",
        "Florida,FL,12\r\n"
       ]
      }
     ],
     "prompt_number": 15
    },
    {
     "cell_type": "markdown",
     "metadata": {},
     "source": [
      "##_mysql module that can connect MySQL server to python"
     ]
    },
    {
     "cell_type": "code",
     "collapsed": false,
     "input": [
      "import _mysql"
     ],
     "language": "python",
     "metadata": {},
     "outputs": [],
     "prompt_number": 16
    },
    {
     "cell_type": "code",
     "collapsed": false,
     "input": [
      "db=_mysql.connect(host=\"localhost\",db=\"test\")"
     ],
     "language": "python",
     "metadata": {},
     "outputs": [],
     "prompt_number": 17
    }
   ],
   "metadata": {}
  }
 ]
}