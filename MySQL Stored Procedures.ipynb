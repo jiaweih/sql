{
 "metadata": {
  "name": "",
  "signature": "sha256:0719779651010e14096ddd1cdaca62578654b19bd970d22286b98dd8fed3ebed"
 },
 "nbformat": 3,
 "nbformat_minor": 0,
 "worksheets": [
  {
   "cells": [
    {
     "cell_type": "markdown",
     "metadata": {},
     "source": [
      "##Introduction to MySQL Stored Procedures\n",
      "\n"
     ]
    },
    {
     "cell_type": "raw",
     "metadata": {},
     "source": [
      "A stored procedure is a segment of declarative SQL statements stored inside the database catalog. A stored procedure can be invoked by triggers, other stored procedures or applications such as Java, C#, PHP, etc."
     ]
    },
    {
     "cell_type": "markdown",
     "metadata": {},
     "source": [
      "###MySQL stored procedures advantages\n",
      "\n",
      "* Typically stored procedures help increase the performance of the applications. Once created, stored procedures are compiled and stored in the database. However MySQL implements the stored procedures slightly different. MySQL stored procedures are compiled on demand. After compiling a stored procedure, MySQL puts it to a cache. And MySQL maintains its own stored procedure cache for every single connection. If an application uses a stored procedure multiple times in a single connection, the compiled version is used, otherwise the stored procedure works like a query.\n",
      "* Stored procedures helps reduce the traffic between application and database server because instead of sending multiple lengthy SQL statements, the application has to send only name and parameters of the stored procedure.\n",
      "* Stored procedures are reusable and transparent to any applications. Stored procedures expose the database interface to all applications so that developers don\u2019t have to develop functions that are already supported in stored procedures.\n",
      "* Stored procedures are secure. Database administrator can grant appropriate permissions to applications that access stored procedures in the database without giving any permission on the underlying database tables."
     ]
    },
    {
     "cell_type": "markdown",
     "metadata": {},
     "source": [
      "###MySQL stored procedures disadvantages\n",
      "\n",
      "* If you use a lot of stored procedures, the memory usage of every connection that is using those stored procedures will increase substantially. In addition, if you overuse a large number of logical operations inside store procedures, the CPU usage will also increase because database server is not well-designed for logical operations.\n",
      "* A constructs of stored procedures make it more difficult to develop stored procedures that have complicated business logic.\n",
      "* It is difficult to debug stored procedures. Only few database management systems allow you to debug stored procedures. Unfortunately, MySQL does not provide facilities for debugging stored procedures.\n",
      "* It is not easy to develop and maintain stored procedures. Developing and maintaining stored procedures are often required specialized skill set that not all application developers possess. This may lead to problems in both application development and maintenance phases."
     ]
    },
    {
     "cell_type": "markdown",
     "metadata": {},
     "source": [
      "###Writing the first MySQL stored procedure\n",
      "\n"
     ]
    },
    {
     "cell_type": "code",
     "collapsed": false,
     "input": [
      "DELIMITER //\n",
      " CREATE PROCEDURE GetAllProducts()\n",
      "   BEGIN\n",
      "   SELECT *  FROM products;\n",
      "   END //\n",
      " DELIMITER ;"
     ],
     "language": "python",
     "metadata": {},
     "outputs": []
    },
    {
     "cell_type": "markdown",
     "metadata": {},
     "source": [
      "###Calling stored procedures\n",
      "\n"
     ]
    },
    {
     "cell_type": "code",
     "collapsed": false,
     "input": [
      "CALL GetAllProducts();"
     ],
     "language": "python",
     "metadata": {},
     "outputs": []
    },
    {
     "cell_type": "markdown",
     "metadata": {},
     "source": [
      "##MySQL Stored Procedure Variables\n",
      "\n"
     ]
    },
    {
     "cell_type": "raw",
     "metadata": {},
     "source": [
      "A variable is a named data object whose value can change during the stored procedure execution. We typically use the variables in stored procedures to hold the immediate results. These variables are local to the stored procedure.\n",
      "\n",
      "You must declare a variable before you can use it."
     ]
    },
    {
     "cell_type": "markdown",
     "metadata": {},
     "source": [
      "###Declaring variables\n",
      "\n"
     ]
    },
    {
     "cell_type": "code",
     "collapsed": false,
     "input": [
      "DECLARE x, y INT DEFAULT 0"
     ],
     "language": "python",
     "metadata": {},
     "outputs": []
    },
    {
     "cell_type": "markdown",
     "metadata": {},
     "source": [
      "###Assigning variables\n",
      "\n"
     ]
    },
    {
     "cell_type": "code",
     "collapsed": false,
     "input": [
      "DECLARE total_count INT DEFAULT 0\n",
      "SET total_count = 10;"
     ],
     "language": "python",
     "metadata": {},
     "outputs": []
    },
    {
     "cell_type": "code",
     "collapsed": false,
     "input": [
      "DECLARE total_products INT DEFAULT 0\n",
      " \n",
      "SELECT COUNT(*) INTO total_products\n",
      "FROM products"
     ],
     "language": "python",
     "metadata": {},
     "outputs": []
    },
    {
     "cell_type": "markdown",
     "metadata": {},
     "source": [
      "###Variables scope\n",
      "\n"
     ]
    },
    {
     "cell_type": "raw",
     "metadata": {},
     "source": [
      "A variable has its own scope, which defines its life time. If you declare a variable inside a stored procedure, it will be out of scope when the END statement of stored procedure reached.\n",
      "\n",
      "If you declare a variable inside BEGIN END block, it will be out of scope if the END is reached. You can declare two or more variables with the same name in different scopes because a variable is only effective in its own scope. However, declaring variables with the same name in different scopes is not good programming practice.\n",
      "\n",
      "A variable that begins with the @ sign at the beginning is session variable. It is available and accessible until the session ends."
     ]
    },
    {
     "cell_type": "markdown",
     "metadata": {},
     "source": [
      "##MySQL Stored Procedure Parameters\n",
      "\n"
     ]
    },
    {
     "cell_type": "markdown",
     "metadata": {},
     "source": [
      "###Introduction to MySQL stored procedure parameters\n",
      "\n"
     ]
    },
    {
     "cell_type": "markdown",
     "metadata": {},
     "source": [
      "Almost stored procedures that you develop require parameters. The parameters make the stored procedure more flexible and useful. In MySQL, a parameter has one of three modes IN, OUT or INOUT.\n",
      "\n",
      "* IN \u2013 is the default mode. When you define an IN parameter in a stored procedure, the calling program has to pass an argument to the stored procedure. In addition, the value of an IN parameter is protected. It means that even the value of the IN parameter is changed inside the stored procedure, its original value is retained after the stored procedure ends. In other words, the stored procedure only works on the copy of the IN parameter.\n",
      "* OUT \u2013 the value of an OUT parameter can be changed inside the stored procedure and its new value is passed back to the calling program. Notice that the stored procedure cannot access the initial value of the OUT parameter when it starts.\n",
      "* INOUT \u2013 an INOUT parameter is the combination of IN parameter and OUT parameter. It means that the calling program may pass the argument, and the stored procedure can modify the INOUT parameter and pass the new value back to the calling program."
     ]
    },
    {
     "cell_type": "raw",
     "metadata": {},
     "source": [
      "The syntax of defining a parameter in the stored procedures is as follows:"
     ]
    },
    {
     "cell_type": "code",
     "collapsed": false,
     "input": [
      "MODE param_name param_type(param_size)"
     ],
     "language": "python",
     "metadata": {},
     "outputs": []
    },
    {
     "cell_type": "markdown",
     "metadata": {},
     "source": [
      "###MySQL stored procedure parameter examples\n",
      "\n"
     ]
    },
    {
     "cell_type": "markdown",
     "metadata": {},
     "source": [
      "###IN parameter example\n",
      "\n"
     ]
    },
    {
     "cell_type": "code",
     "collapsed": false,
     "input": [
      "DELIMITER //\n",
      "CREATE PROCEDURE GetOfficeByCountry(IN countryName VARCHAR(255))\n",
      " BEGIN\n",
      " SELECT * \n",
      " FROM offices\n",
      " WHERE country = countryName;\n",
      " END //\n",
      "DELIMITER ;"
     ],
     "language": "python",
     "metadata": {},
     "outputs": []
    },
    {
     "cell_type": "code",
     "collapsed": false,
     "input": [
      "CALL GetOfficeByCountry('USA')"
     ],
     "language": "python",
     "metadata": {},
     "outputs": []
    },
    {
     "cell_type": "markdown",
     "metadata": {},
     "source": [
      "###OUT parameter example\n",
      "\n"
     ]
    },
    {
     "cell_type": "code",
     "collapsed": false,
     "input": [
      "DELIMITER $$\n",
      "CREATE PROCEDURE CountOrderByStatus(\n",
      " IN orderStatus VARCHAR(25),\n",
      " OUT total INT)\n",
      "BEGIN\n",
      " SELECT count(orderNumber)\n",
      " INTO total\n",
      " FROM orders\n",
      " WHERE status = orderStatus;\n",
      "END$$\n",
      "DELIMITER ;"
     ],
     "language": "python",
     "metadata": {},
     "outputs": []
    },
    {
     "cell_type": "code",
     "collapsed": false,
     "input": [
      "CALL CountOrderByStatus('Shipped',@total);\n",
      " \n",
      "SELECT @total;"
     ],
     "language": "python",
     "metadata": {},
     "outputs": []
    },
    {
     "cell_type": "code",
     "collapsed": false,
     "input": [
      "CALL CountOrderByStatus('in process',@total);\n",
      " \n",
      "SELECT @total AS  total_in_process;"
     ],
     "language": "python",
     "metadata": {},
     "outputs": []
    },
    {
     "cell_type": "markdown",
     "metadata": {},
     "source": [
      "###INOUT parameter example\n",
      "\n"
     ]
    },
    {
     "cell_type": "code",
     "collapsed": false,
     "input": [
      "DELIMITER $$\n",
      "CREATE PROCEDURE set_counter(INOUT count INT(4),IN inc INT(4))\n",
      "BEGIN\n",
      " SET count = count + inc;\n",
      "END$$\n",
      "DELIMITER ;"
     ],
     "language": "python",
     "metadata": {},
     "outputs": []
    },
    {
     "cell_type": "code",
     "collapsed": false,
     "input": [
      "SET @counter = 1;\n",
      "CALL set_counter(@counter,1); -- 2\n",
      "CALL set_counter(@counter,1); -- 3\n",
      "CALL set_counter(@counter,5); -- 8\n",
      "SELECT @counter; -- 8"
     ],
     "language": "python",
     "metadata": {},
     "outputs": []
    },
    {
     "cell_type": "markdown",
     "metadata": {},
     "source": [
      "##MySQL IF Statement\n",
      "\n"
     ]
    },
    {
     "cell_type": "markdown",
     "metadata": {},
     "source": [
      "###MySQL IF statement syntax\n",
      "\n"
     ]
    },
    {
     "cell_type": "code",
     "collapsed": false,
     "input": [
      "IF if_expression THEN commands\n",
      "   [ELSEIF elseif_expression THEN commands]\n",
      "   [ELSE commands]\n",
      "   END IF;"
     ],
     "language": "python",
     "metadata": {},
     "outputs": []
    },
    {
     "cell_type": "markdown",
     "metadata": {},
     "source": [
      "###MySQL IF statement examples\n",
      "\n"
     ]
    },
    {
     "cell_type": "code",
     "collapsed": false,
     "input": [
      "DELIMITER $$\n",
      " \n",
      "CREATE PROCEDURE GetCustomerLevel(\n",
      "    in  p_customerNumber int(11), \n",
      "    out p_customerLevel  varchar(10))\n",
      "BEGIN\n",
      "    DECLARE creditlim double;\n",
      " \n",
      "    SELECT creditlimit INTO creditlim\n",
      "    FROM customers\n",
      "    WHERE customerNumber = p_customerNumber;\n",
      " \n",
      "    IF creditlim > 50000 THEN\n",
      "        SET p_customerLevel = 'PLATINUM';\n",
      "    ELSEIF (creditlim <= 50000 AND creditlim >= 10000) THEN\n",
      "        SET p_customerLevel = 'GOLD';\n",
      "    ELSEIF creditlim < 10000 THEN\n",
      "        SET p_customerLevel = 'SILVER';\n",
      "    END IF;\n",
      " \n",
      "END$$"
     ],
     "language": "python",
     "metadata": {},
     "outputs": []
    },
    {
     "cell_type": "markdown",
     "metadata": {},
     "source": [
      "##MySQL CASE Statement\n",
      "\n"
     ]
    },
    {
     "cell_type": "markdown",
     "metadata": {},
     "source": [
      "###Simple CASE statement\n",
      "\n"
     ]
    },
    {
     "cell_type": "code",
     "collapsed": false,
     "input": [
      "CASE  case_expression\n",
      "   WHEN when_expression_1 THEN commands\n",
      "   WHEN when_expression_2 THEN commands\n",
      "   ...\n",
      "   ELSE commands\n",
      "END CASE;"
     ],
     "language": "python",
     "metadata": {},
     "outputs": []
    },
    {
     "cell_type": "code",
     "collapsed": false,
     "input": [
      "DELIMITER $$\n",
      " \n",
      "CREATE PROCEDURE GetCustomerShipping(\n",
      " in  p_customerNumber int(11), \n",
      " out p_shiping        varchar(50))\n",
      "BEGIN\n",
      "    DECLARE customerCountry varchar(50);\n",
      " \n",
      "    SELECT country INTO customerCountry\n",
      " FROM customers\n",
      " WHERE customerNumber = p_customerNumber;\n",
      " \n",
      "    CASE customerCountry\n",
      " WHEN  'USA' THEN\n",
      "    SET p_shiping = '2-day Shipping';\n",
      " WHEN 'Canada' THEN\n",
      "    SET p_shiping = '3-day Shipping';\n",
      " ELSE\n",
      "    SET p_shiping = '5-day Shipping';\n",
      " END CASE;\n",
      " \n",
      "END$$"
     ],
     "language": "python",
     "metadata": {},
     "outputs": []
    },
    {
     "cell_type": "raw",
     "metadata": {},
     "source": [
      "The following is the test script for the stored procedure above:"
     ]
    },
    {
     "cell_type": "code",
     "collapsed": false,
     "input": [
      "SET @customerNo = 112;\n",
      " \n",
      "SELECT country into @country\n",
      "FROM customers\n",
      "WHERE customernumber = @customerNo;\n",
      " \n",
      "CALL GetCustomerShipping(@customerNo,@shipping);\n",
      " \n",
      "SELECT @customerNo AS Customer,\n",
      "       @country    AS Country,\n",
      "       @shipping   AS Shipping;"
     ],
     "language": "python",
     "metadata": {},
     "outputs": []
    },
    {
     "cell_type": "markdown",
     "metadata": {},
     "source": [
      "###Searched CASE statement\n",
      "\n"
     ]
    },
    {
     "cell_type": "code",
     "collapsed": false,
     "input": [
      "CASE\n",
      "    WHEN condition_1 THEN commands\n",
      "    WHEN condition_2 THEN commands\n",
      "    ...\n",
      "    ELSE commands\n",
      "END CASE;"
     ],
     "language": "python",
     "metadata": {},
     "outputs": []
    },
    {
     "cell_type": "code",
     "collapsed": false,
     "input": [
      "DELIMITER $$\n",
      " \n",
      "CREATE PROCEDURE GetCustomerLevel(\n",
      " in  p_customerNumber int(11), \n",
      " out p_customerLevel  varchar(10))\n",
      "BEGIN\n",
      "    DECLARE creditlim double;\n",
      " \n",
      "    SELECT creditlimit INTO creditlim\n",
      " FROM customers\n",
      " WHERE customerNumber = p_customerNumber;\n",
      " \n",
      "    CASE  \n",
      " WHEN creditlim > 50000 THEN \n",
      "    SET p_customerLevel = 'PLATINUM';\n",
      " WHEN (creditlim <= 50000 AND creditlim >= 10000) THEN\n",
      "    SET p_customerLevel = 'GOLD';\n",
      " WHEN creditlim < 10000 THEN\n",
      "    SET p_customerLevel = 'SILVER';\n",
      " END CASE;\n",
      " \n",
      "END$$"
     ],
     "language": "python",
     "metadata": {},
     "outputs": []
    },
    {
     "cell_type": "code",
     "collapsed": false,
     "input": [
      "We can test our stored procedure by executing the following test script:"
     ],
     "language": "python",
     "metadata": {},
     "outputs": []
    },
    {
     "cell_type": "code",
     "collapsed": false,
     "input": [
      "CALL GetCustomerLevel(112,@level);\n",
      "SELECT @level AS 'Customer Level';"
     ],
     "language": "python",
     "metadata": {},
     "outputs": []
    },
    {
     "cell_type": "markdown",
     "metadata": {},
     "source": [
      "##Hints for Choosing Between IF and CASE Statements\n",
      "\n"
     ]
    },
    {
     "cell_type": "markdown",
     "metadata": {},
     "source": [
      "MySQL provides both IF and CASE statements to enable you to execute a block of SQL code based on certain conditions, which is known as flow control. So what statement should you use? For the most developers, choosing between IF and CASE is just a matter of personal preference. However when you decide to use IF or CASE,  you should take the following points into the consideration:\n",
      "\n",
      "* A simple CASE statement is more readable than the IF statement when you compare a single expression against a range of unique values.  In addition, the simple CASE statement is more efficient than the IF statement.\n",
      "* When you check complex expressions based on multiple values, the IF statement is easier to understand.\n",
      "* If you choose to use the CASE statement, you have to make sure that at least one of the CASE condition is matched. Otherwise you need to define an error handle to catch the error. Recall that you don\u2019t have to do this with the IF statement.\n",
      "* In most organization, there is always something called development guidelines document that provides developers with naming convention and guidelines on programming style. You should refer to this document and follow the development practices.\n",
      "* In some situations, mixing between IF and CASE make your stored procedure more readable and efficient."
     ]
    },
    {
     "cell_type": "markdown",
     "metadata": {},
     "source": [
      "##Loop in Stored Procedures\n",
      "\n"
     ]
    },
    {
     "cell_type": "markdown",
     "metadata": {},
     "source": [
      "###WHILE loop\n",
      "\n"
     ]
    },
    {
     "cell_type": "code",
     "collapsed": false,
     "input": [
      "WHILE expression DO\n",
      "   Statements\n",
      "END WHILE"
     ],
     "language": "python",
     "metadata": {},
     "outputs": []
    },
    {
     "cell_type": "code",
     "collapsed": false,
     "input": [
      " DELIMITER $$\n",
      " DROP PROCEDURE IF EXISTS WhileLoopProc$$\n",
      " CREATE PROCEDURE WhileLoopProc()\n",
      "       BEGIN\n",
      "               DECLARE x  INT;\n",
      "               DECLARE str  VARCHAR(255);\n",
      "               SET x = 1;\n",
      "               SET str =  '';\n",
      "               WHILE x  <= 5 DO\n",
      "                           SET  str = CONCAT(str,x,',');\n",
      "                           SET  x = x + 1; \n",
      "               END WHILE;\n",
      "               SELECT str;\n",
      "       END$$\n",
      "   DELIMITER ;"
     ],
     "language": "python",
     "metadata": {},
     "outputs": []
    },
    {
     "cell_type": "markdown",
     "metadata": {},
     "source": [
      "###REPEAT loop\n",
      "\n"
     ]
    },
    {
     "cell_type": "code",
     "collapsed": false,
     "input": [
      "REPEAT\n",
      "Statements;\n",
      "UNTIL expression\n",
      "END REPEAT"
     ],
     "language": "python",
     "metadata": {},
     "outputs": []
    },
    {
     "cell_type": "code",
     "collapsed": false,
     "input": [
      " DELIMITER $$\n",
      " DROP PROCEDURE IF EXISTS RepeatLoopProc$$\n",
      " CREATE PROCEDURE RepeatLoopProc()\n",
      "       BEGIN\n",
      "               DECLARE x  INT;\n",
      "               DECLARE str  VARCHAR(255);\n",
      "               SET x = 1;\n",
      "               SET str =  '';\n",
      "               REPEAT\n",
      "                           SET  str = CONCAT(str,x,',');\n",
      "                           SET  x = x + 1; \n",
      "               UNTIL x  > 5\n",
      "               END REPEAT;\n",
      "               SELECT str;\n",
      "       END$$\n",
      " DELIMITER ;"
     ],
     "language": "python",
     "metadata": {},
     "outputs": []
    },
    {
     "cell_type": "markdown",
     "metadata": {},
     "source": [
      "###LOOP, LEAVE and ITERATE Statements\n",
      "\n"
     ]
    },
    {
     "cell_type": "raw",
     "metadata": {},
     "source": [
      "The LEAVE statement allows you to exit the loop immediately without waiting for checking the condition. The LEAVE statement works like the  break statement in other languages such as PHP, C/C++, Java, etc.\n",
      "\n",
      "The ITERATE statement allows you to skip the entire code under it and start a new iteration. The ITERATE statement is similar to the continue statement in PHP, C/C++, Java, etc.\n",
      "\n",
      "MySQL also gives you a LOOP statement that allows you to execute a block of code repeatedly with an additional flexibility of using a loop label."
     ]
    },
    {
     "cell_type": "code",
     "collapsed": false,
     "input": [
      "DELIMITER $$\n",
      " DROP PROCEDURE IF EXISTS LOOPLoopProc$$\n",
      " CREATE PROCEDURE LOOPLoopProc()\n",
      "       BEGIN\n",
      "               DECLARE x  INT;\n",
      "               DECLARE str  VARCHAR(255);\n",
      "               SET x = 1;\n",
      "               SET str =  '';\n",
      "               loop_label:  LOOP\n",
      "                           IF  x > 10 THEN\n",
      "                               LEAVE  loop_label;\n",
      "                           END  IF;\n",
      "                           SET  x = x + 1;\n",
      "                           IF  (x mod 2) THEN\n",
      "                               ITERATE  loop_label;\n",
      "                           ELSE\n",
      "                               SET  str = CONCAT(str,x,',');\n",
      "                           END  IF;\n",
      " \n",
      "               END LOOP;    \n",
      "               SELECT str;\n",
      "       END$$\n",
      " DELIMITER ;"
     ],
     "language": "python",
     "metadata": {},
     "outputs": []
    },
    {
     "cell_type": "markdown",
     "metadata": {},
     "source": [
      "##MySQL Cursor\n",
      "\n"
     ]
    },
    {
     "cell_type": "markdown",
     "metadata": {},
     "source": [
      "###Introduction to MySQL cursor\n",
      "\n"
     ]
    },
    {
     "cell_type": "raw",
     "metadata": {},
     "source": [
      "To handle a result set inside a stored procedure, you use a cursor. A cursor allows you to iterate a set of rows returned by a query and process each row accordingly."
     ]
    },
    {
     "cell_type": "markdown",
     "metadata": {},
     "source": [
      "###Working with MySQL cursor\n",
      "\n"
     ]
    },
    {
     "cell_type": "code",
     "collapsed": false,
     "input": [
      "DECLARE cursor_name CURSOR FOR SELECT_statement;"
     ],
     "language": "python",
     "metadata": {},
     "outputs": []
    },
    {
     "cell_type": "raw",
     "metadata": {},
     "source": [
      "The cursor declaration must be after any variable declaration. If you declare a cursor before variables declaration, MySQL will issue an error. A cursor must always be associated with a SELECT statement."
     ]
    },
    {
     "cell_type": "raw",
     "metadata": {},
     "source": [
      "When working with MySQL cursor, you must also declare a NOT FOUND handler to handle the situation when the cursor could not find any row. Because each time you call the FETCH statement, the cursor attempts to read the next row in the result set. When the cursor reaches the end of the result set, it will not be able to get the data, and a condition is raised. The handler is used to handle this condition."
     ]
    },
    {
     "cell_type": "code",
     "collapsed": false,
     "input": [
      "To declare a NOT FOUND handler, you use the following syntax:"
     ],
     "language": "python",
     "metadata": {},
     "outputs": []
    },
    {
     "cell_type": "code",
     "collapsed": false,
     "input": [
      "DECLARE CONTINUE HANDLER FOR NOT FOUND SET finished = 1;"
     ],
     "language": "python",
     "metadata": {},
     "outputs": []
    },
    {
     "cell_type": "markdown",
     "metadata": {},
     "source": [
      "Where **finished** is a variable to indicate that the cursor has reached the end of the result set. Notice that the handler declaration must appear after variable and cursor declaration inside the stored procedures."
     ]
    },
    {
     "cell_type": "markdown",
     "metadata": {},
     "source": [
      "###MySQL Cursor Example\n"
     ]
    },
    {
     "cell_type": "code",
     "collapsed": false,
     "input": [
      "DELIMITER $$\n",
      " \n",
      "CREATE PROCEDURE build_email_list (INOUT email_list varchar(4000))\n",
      "BEGIN\n",
      " \n",
      " DECLARE v_finished INTEGER DEFAULT 0;\n",
      "        DECLARE v_email varchar(100) DEFAULT \"\";\n",
      " \n",
      " -- declare cursor for employee email\n",
      " DEClARE email_cursor CURSOR FOR \n",
      " SELECT email FROM employees;\n",
      " \n",
      " -- declare NOT FOUND handler\n",
      " DECLARE CONTINUE HANDLER \n",
      "        FOR NOT FOUND SET v_finished = 1;\n",
      " \n",
      " OPEN email_cursor;\n",
      " \n",
      " get_email: LOOP\n",
      " \n",
      " FETCH email_cursor INTO v_email;\n",
      " \n",
      " IF v_finished = 1 THEN \n",
      " LEAVE get_email;\n",
      " END IF;\n",
      " \n",
      " -- build email list\n",
      " SET email_list = CONCAT(v_email,\";\",email_list);\n",
      " \n",
      " END LOOP get_email;\n",
      " \n",
      " CLOSE email_cursor;\n",
      " \n",
      "END$$\n",
      " \n",
      "DELIMITER ;"
     ],
     "language": "python",
     "metadata": {},
     "outputs": []
    },
    {
     "cell_type": "code",
     "collapsed": false,
     "input": [
      "You can test the build_email_list stored procedure using the following script:"
     ],
     "language": "python",
     "metadata": {},
     "outputs": []
    },
    {
     "cell_type": "code",
     "collapsed": false,
     "input": [
      "SET @email_list = \"\";\n",
      "CALL build_email_list(@email_list);\n",
      "SELECT @email_list;"
     ],
     "language": "python",
     "metadata": {},
     "outputs": []
    },
    {
     "cell_type": "markdown",
     "metadata": {},
     "source": [
      "##Listing Stored Procedures in a MySQL Database\n",
      "\n"
     ]
    },
    {
     "cell_type": "markdown",
     "metadata": {},
     "source": [
      "###Displaying characteristics of stored procedures\n",
      "\n"
     ]
    },
    {
     "cell_type": "code",
     "collapsed": false,
     "input": [
      "To display characteristics of a stored procedure, you use the  SHOW PROCEDURE STATUS statement as follows:\n",
      "\n",
      "SHOW PROCEDURE STATUS [LIKE 'pattern' | WHERE expr];"
     ],
     "language": "python",
     "metadata": {},
     "outputs": []
    },
    {
     "cell_type": "code",
     "collapsed": false,
     "input": [
      "SHOW PROCEDURE STATUS WHERE db = 'classicmodels';"
     ],
     "language": "python",
     "metadata": {},
     "outputs": []
    },
    {
     "cell_type": "code",
     "collapsed": false,
     "input": [
      "SHOW PROCEDURE STATUS WHERE name LIKE '%product%'"
     ],
     "language": "python",
     "metadata": {},
     "outputs": []
    },
    {
     "cell_type": "markdown",
     "metadata": {},
     "source": [
      "###Displaying stored procedure\u2019s source code\n",
      "\n"
     ]
    },
    {
     "cell_type": "code",
     "collapsed": false,
     "input": [
      "To display source code of a particular stored procedure, you use the  SHOW CREATE PROCEDURE statement as follows:\n",
      "\n",
      "SHOW CREATE PROCEDURE stored_procedure_name"
     ],
     "language": "python",
     "metadata": {},
     "outputs": []
    },
    {
     "cell_type": "code",
     "collapsed": false,
     "input": [
      "You specify the name of the stored procedure after the  SHOW CREATE PROCEDURE keywords. For example, to display the code of the GetAllProducts stored procedure, you use the following statement:\n",
      "\n",
      "SHOW CREATE PROCEDURE GetAllProducts"
     ],
     "language": "python",
     "metadata": {},
     "outputs": []
    },
    {
     "cell_type": "markdown",
     "metadata": {},
     "source": [
      "##MySQL Stored Function\n",
      "\n"
     ]
    },
    {
     "cell_type": "raw",
     "metadata": {},
     "source": [
      "A stored function is a special kind stored program that returns a single value. You use stored functions to encapsulate common formulas or business rules that may be reusable among SQL statements or stored programs.\n",
      "\n",
      "Different from a stored procedure, you can use a stored function in SQL statements wherever an expression is used. This helps improve the readability and maintainability of the procedural code."
     ]
    },
    {
     "cell_type": "markdown",
     "metadata": {},
     "source": [
      "###MySQL stored function syntax\n",
      "\n"
     ]
    },
    {
     "cell_type": "code",
     "collapsed": false,
     "input": [
      "CREATE FUNCTION function_name(param1,param2,\u2026)\n",
      "    RETURNS datatype\n",
      "   [NOT] DETERMINISTIC\n",
      " statements"
     ],
     "language": "python",
     "metadata": {},
     "outputs": []
    },
    {
     "cell_type": "markdown",
     "metadata": {},
     "source": [
      "###MySQL stored function example\n",
      "\n"
     ]
    },
    {
     "cell_type": "code",
     "collapsed": false,
     "input": [
      "DELIMITER $$\n",
      " \n",
      "CREATE FUNCTION CustomerLevel(p_creditLimit double) RETURNS VARCHAR(10)\n",
      "    DETERMINISTIC\n",
      "BEGIN\n",
      "    DECLARE lvl varchar(10);\n",
      " \n",
      "    IF p_creditLimit > 50000 THEN\n",
      " SET lvl = 'PLATINUM';\n",
      "    ELSEIF (p_creditLimit <= 50000 AND p_creditLimit >= 10000) THEN\n",
      "        SET lvl = 'GOLD';\n",
      "    ELSEIF p_creditLimit < 10000 THEN\n",
      "        SET lvl = 'SILVER';\n",
      "    END IF;\n",
      " \n",
      " RETURN (lvl);\n",
      "END"
     ],
     "language": "python",
     "metadata": {},
     "outputs": []
    },
    {
     "cell_type": "code",
     "collapsed": false,
     "input": [
      "SELECT customerName,\n",
      "       CustomerLevel(creditLimit)\n",
      "FROM customers;"
     ],
     "language": "python",
     "metadata": {},
     "outputs": []
    },
    {
     "cell_type": "raw",
     "metadata": {},
     "source": [
      "We also rewrite the  GetCustomerLevel() stored procedure that we developed in the MySQL IF statement tutorial as follows:"
     ]
    },
    {
     "cell_type": "code",
     "collapsed": false,
     "input": [
      "DELIMITER $$\n",
      " \n",
      "CREATE PROCEDURE GetCustomerLevel(\n",
      "    IN  p_customerNumber INT(11),\n",
      "    OUT p_customerLevel  varchar(10)\n",
      ")\n",
      "BEGIN\n",
      "    DECLARE creditlim DOUBLE;\n",
      " \n",
      "    SELECT creditlimit INTO creditlim\n",
      "    FROM customers\n",
      "    WHERE customerNumber = p_customerNumber;\n",
      " \n",
      "    SELECT CUSTOMERLEVEL(creditlim) \n",
      "    INTO p_customerLevel;\n",
      " \n",
      "END"
     ],
     "language": "python",
     "metadata": {},
     "outputs": []
    },
    {
     "cell_type": "markdown",
     "metadata": {},
     "source": [
      "##MySQL Error Handling in Stored Procedures\n",
      "\n"
     ]
    },
    {
     "cell_type": "raw",
     "metadata": {},
     "source": [
      "This tutorial shows you how to use MySQL handler to handle exceptions or errors encountered in stored procedures.\n",
      "\n",
      "When an error occurs inside a stored procedure, it is important to handle it appropriately, such as continuing or exiting the current code block\u2019s execution, and issuing a meaningful error message.\n",
      "\n",
      "MySQL provides an easy way to define handlers that handle from general conditions such as warnings or exceptions to specific conditions e.g., specific error codes."
     ]
    },
    {
     "cell_type": "markdown",
     "metadata": {},
     "source": [
      "###Declaring a handler\n",
      "\n"
     ]
    },
    {
     "cell_type": "markdown",
     "metadata": {},
     "source": [
      "To declare a handler, you use the  DECLARE HANDLER statement as follows:\n",
      "\n",
      "**DECLARE action HANDLER FOR condition_value statement;**\n",
      "\n",
      "If a condition whose value matches the  condition_value, MySQL will execute the statement and continue or exit the current code block based on the action.\n",
      "\n",
      "The action accepts one of the following values:\n",
      "\n",
      "* CONTINUE:  the execution of the enclosing code block ( BEGIN \u2026 END) continues.\n",
      "* EXIT: the execution of the enclosing code block, where the handler is declared, terminates.\n",
      "\n",
      "The  condition_value specifies a particular condition or a class of conditions that activates the handler. The  condition_value accepts one of the following values:\n",
      "\n",
      "* A MySQL error code.\n",
      "* A standard SQLSTATE value. Or it can be an SQLWARNING, NOTFOUND or SQLEXCEPTION condition, which is shorthand for the class of SQLSTATE values. The NOTFOUND condition is used for a cursor or  SELECT INTO variable_list statement.\n",
      "* A named condition associated with either a MySQL error code or SQLSTATE value.\n",
      "\n",
      "The statement could be a simple statement or a compound statement enclosing by the BEGIN and END keywords"
     ]
    },
    {
     "cell_type": "markdown",
     "metadata": {},
     "source": [
      "###MySQL error handling examples\n",
      "\n"
     ]
    },
    {
     "cell_type": "markdown",
     "metadata": {},
     "source": [
      "The following handler means if an error occurs, set the value of the  has_error variable to 1 and continue the execution.\n",
      "\n",
      "**DECLARE CONTINUE HANDLER FOR SQLEXCEPTION SET has_error = 1;**"
     ]
    },
    {
     "cell_type": "markdown",
     "metadata": {},
     "source": [
      "The following is another handler; it means that in case any error occurs, rollback the previous operation, issue an error message and exit the current code block. If you declare it inside the   BEGIN END block of a stored procedure, it will terminate stored procedure immediately."
     ]
    },
    {
     "cell_type": "code",
     "collapsed": false,
     "input": [
      "DECLARE EXIT HANDLER FOR SQLEXCEPTION\n",
      "BEGIN\n",
      "ROLLBACK;\n",
      "SELECT 'An error has occurred, operation rollbacked and the stored procedure was terminated';\n",
      "END;"
     ],
     "language": "python",
     "metadata": {},
     "outputs": []
    },
    {
     "cell_type": "raw",
     "metadata": {},
     "source": [
      "If there are no more rows to fetch, in case of a cursor or SELECT INTO statement, set the value of the  no_row_found variable to 1 and continue execution."
     ]
    },
    {
     "cell_type": "code",
     "collapsed": false,
     "input": [
      "DECLARE CONTINUE HANDLER FOR NOT FOUND SET no_row_found = 1;"
     ],
     "language": "python",
     "metadata": {},
     "outputs": []
    },
    {
     "cell_type": "markdown",
     "metadata": {},
     "source": [
      "If a duplicate key error occurs, MySQL error 1062 is issued. The following handler issues an error message and continues execution."
     ]
    },
    {
     "cell_type": "code",
     "collapsed": false,
     "input": [
      "DECLARE CONTINUE HANDLER FOR 1062\n",
      "SELECT 'Error, duplicate key occurred';"
     ],
     "language": "python",
     "metadata": {},
     "outputs": []
    },
    {
     "cell_type": "markdown",
     "metadata": {},
     "source": [
      "###MySQL handler example in stored procedures\n",
      "\n"
     ]
    },
    {
     "cell_type": "code",
     "collapsed": false,
     "input": [
      "CREATE TABLE article_tags(\n",
      "    article_id INT,\n",
      "    tag_id     INT,\n",
      "    PRIMARY KEY(article_id,tag_id)\n",
      ");"
     ],
     "language": "python",
     "metadata": {},
     "outputs": []
    },
    {
     "cell_type": "code",
     "collapsed": false,
     "input": [
      "DELIMITER $$\n",
      " \n",
      "CREATE PROCEDURE insert_article_tags(IN article_id INT, IN tag_id INT)\n",
      "BEGIN\n",
      " \n",
      " DECLARE CONTINUE HANDLER FOR 1062\n",
      " SELECT CONCAT('duplicate keys (',article_id,',',tag_id,') found') AS msg;\n",
      " \n",
      " -- insert a new record into article_tags\n",
      " INSERT INTO article_tags(article_id,tag_id)\n",
      " VALUES(article_id,tag_id);\n",
      " \n",
      " -- return tag count for the article\n",
      " SELECT COUNT(*) FROM article_tags;\n",
      "END"
     ],
     "language": "python",
     "metadata": {},
     "outputs": []
    },
    {
     "cell_type": "markdown",
     "metadata": {},
     "source": [
      "###MySQL handler precedence\n",
      "\n"
     ]
    },
    {
     "cell_type": "raw",
     "metadata": {},
     "source": [
      "In case there are multiple handlers that are eligible for handling an error, MySQL will call the most specific handler to handle the error.\n",
      "\n",
      "An error always maps to one MySQL error code so a MySQL it is the most specific. An SQLSTATE may map to many MySQL error codes therefore it is less specific. An SQLEXCPETION or an SQLWARNING is the shorthand for a class of SQLSTATES values so it is the most generic.\n",
      "\n",
      "Based on the handler precedence\u2019s rules,  MySQL error code handler, SQLSTATE handler and SQLEXCEPTION takes the first, second and third precedence."
     ]
    }
   ],
   "metadata": {}
  }
 ]
}